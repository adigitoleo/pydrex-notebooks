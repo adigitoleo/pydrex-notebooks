{
 "cells": [
  {
   "cell_type": "markdown",
   "id": "b4fef350-056d-492f-934d-d424d53b9d89",
   "metadata": {},
   "source": [
    "# Planar simple shear\n",
    "\n",
    "Relevant resources:\n",
    "- Figure 5 in [Kaminski & Ribe, 2001](https://doi.org/10.1016%2Fs0012-821x%2801%2900356-9)\n",
    "- Figure 3 in [Lev & Hager, 2008](https://doi.org/10.1029%2F2008gc002032)"
   ]
  },
  {
   "cell_type": "markdown",
   "id": "df49bbe4-8e6d-4930-b30d-b81eb2418849",
   "metadata": {},
   "source": [
    "## Pure olivine\n",
    "\n",
    "Shear defined by $\\frac{\\partial v_{y}}{\\partial x}$ so that the active slip system is $(010)[100]$ as in [Zhang & Karato, 1995](https://doi.org/10.1038%2F375774a0)."
   ]
  },
  {
   "cell_type": "code",
   "execution_count": 1,
   "id": "090fd411-0e27-48b7-a9df-cb3450a4f509",
   "metadata": {},
   "outputs": [],
   "source": [
    "import numpy as np\n",
    "from scipy import linalg as la\n",
    "from matplotlib import pyplot as plt\n",
    "from scipy.spatial.transform import Rotation\n",
    "\n",
    "from pydrex import minerals as _minerals\n",
    "from pydrex import deformation_mechanism as _defmech\n",
    "from pydrex import diagnostics as _diagnostics\n",
    "from pydrex import stats as _stats\n",
    "from pydrex import logger as _log"
   ]
  },
  {
   "cell_type": "code",
   "execution_count": 2,
   "id": "c1a19fec-5036-453d-8a7f-308704b23884",
   "metadata": {},
   "outputs": [],
   "source": [
    "# Set up parameters\n",
    "n_grains = 3000\n",
    "gbm_mobilities = [0, 50, 200]\n",
    "params = {\n",
    "    \"olivine_fraction\": 1,\n",
    "    \"stress_exponent\": 3.5,\n",
    "    \"deformation_exponent\": 1.5,\n",
    "    \"gbs_threshold\": 0,\n",
    "    \"nucleation_efficiency\": 5,\n",
    "    \"number_of_grains\": n_grains,\n",
    "}"
   ]
  },
  {
   "cell_type": "code",
   "execution_count": 3,
   "id": "82afb389-e659-4766-9183-80d0418542ba",
   "metadata": {},
   "outputs": [],
   "source": [
    "# Set up initial conditions\n",
    "rng = np.random.default_rng(seed=8816)\n",
    "\n",
    "velocity_gradient = np.array([[0, 0, 0], [2, 0, 0], [0, 0, 0]])\n",
    "deformation_gradient_init = np.eye(3)\n",
    "orientations_init = Rotation.from_rotvec(\n",
    "    [[0, 0, -θ * np.pi / 2] for θ in rng.random(n_grains)]\n",
    ").as_matrix()\n",
    "\n",
    "\n",
    "def create_mineral():\n",
    "    return _minerals.Mineral(\n",
    "        _minerals.MineralPhase.olivine,\n",
    "        _minerals.OlivineFabric.A,\n",
    "        _defmech.Regime.dislocation,\n",
    "        fractions_init=np.full(n_grains, 1 / n_grains),\n",
    "        orientations_init=orientations_init,\n",
    "    )"
   ]
  },
  {
   "cell_type": "code",
   "execution_count": 4,
   "id": "74415034-2800-4e45-afac-fc13ae197707",
   "metadata": {
    "scrolled": true
   },
   "outputs": [],
   "source": [
    "%%capture\n",
    "# Set up output figure.\n",
    "\n",
    "fig = plt.figure(constrained_layout=True)\n",
    "ax0 = fig.add_subplot(3, 1, 1)\n",
    "ax50 = fig.add_subplot(3, 1, 2, sharex=ax0)\n",
    "ax200 = fig.add_subplot(3, 1, 3, sharex=ax0)\n",
    "\n",
    "ax0.tick_params(labelbottom=False)\n",
    "ax50.tick_params(labelbottom=False)\n",
    "ax50.set_xlabel(\"strain ($D_{0}t$)\")\n",
    "ax200.set_ylabel(\"mean angle of [100] axes to shear plane\")"
   ]
  },
  {
   "cell_type": "code",
   "execution_count": 8,
   "id": "308d7333-6604-44b1-baed-db87aa0ef2b6",
   "metadata": {},
   "outputs": [
    {
     "name": "stderr",
     "output_type": "stream",
     "text": [
      "\u001b[32mINFO [07:30]\u001b[m pydrex: created Mineral(phase=0, fabric=0, regime=1, n_grains=1000, fractions=<list of ndarray (3000,)>, orientations=<list of ndarray (3000, 3, 3)>)\n",
      "\u001b[32mINFO [07:30]\u001b[m pydrex: calculating CPO at [0, 0, 0] (t=0.000000e+00) with velocity gradient [0, 0, 0, 2, 0, 0, 0, 0, 0]\n",
      "rv_cb_arr is NULL\n",
      "Call-back cb_f_in_lsoda__user__routines failed.\n"
     ]
    },
    {
     "ename": "ValueError",
     "evalue": "0-th dimension must be fixed to 30009 but got 10009\n",
     "output_type": "error",
     "traceback": [
      "\u001b[0;31m---------------------------------------------------------------------------\u001b[0m",
      "\u001b[0;31mValueError\u001b[0m                                Traceback (most recent call last)",
      "Cell \u001b[0;32mIn[8], line 12\u001b[0m\n\u001b[1;32m      9\u001b[0m deformation_gradient \u001b[38;5;241m=\u001b[39m deformation_gradient_init\u001b[38;5;241m.\u001b[39mcopy()\n\u001b[1;32m     11\u001b[0m \u001b[38;5;28;01mfor\u001b[39;00m t, time \u001b[38;5;129;01min\u001b[39;00m \u001b[38;5;28menumerate\u001b[39m(timestamps[:\u001b[38;5;241m-\u001b[39m\u001b[38;5;241m1\u001b[39m]):\n\u001b[0;32m---> 12\u001b[0m     deformation_gradient \u001b[38;5;241m=\u001b[39m \u001b[43mmineral\u001b[49m\u001b[38;5;241;43m.\u001b[39;49m\u001b[43mupdate_orientations\u001b[49m\u001b[43m(\u001b[49m\n\u001b[1;32m     13\u001b[0m \u001b[43m        \u001b[49m\u001b[43mparams\u001b[49m\u001b[43m,\u001b[49m\n\u001b[1;32m     14\u001b[0m \u001b[43m        \u001b[49m\u001b[43mdeformation_gradient\u001b[49m\u001b[43m,\u001b[49m\n\u001b[1;32m     15\u001b[0m \u001b[43m        \u001b[49m\u001b[43mvelocity_gradient\u001b[49m\u001b[43m,\u001b[49m\n\u001b[1;32m     16\u001b[0m \u001b[43m        \u001b[49m\u001b[43mpathline\u001b[49m\u001b[38;5;241;43m=\u001b[39;49m\u001b[43m(\u001b[49m\u001b[43mtime\u001b[49m\u001b[43m,\u001b[49m\u001b[43m \u001b[49m\u001b[43mtimestamps\u001b[49m\u001b[43m[\u001b[49m\u001b[43mt\u001b[49m\u001b[43m \u001b[49m\u001b[38;5;241;43m+\u001b[39;49m\u001b[43m \u001b[49m\u001b[38;5;241;43m1\u001b[39;49m\u001b[43m]\u001b[49m\u001b[43m,\u001b[49m\u001b[43m \u001b[49m\u001b[43mnp\u001b[49m\u001b[38;5;241;43m.\u001b[39;49m\u001b[43marray\u001b[49m\u001b[43m(\u001b[49m\u001b[43m[\u001b[49m\u001b[38;5;241;43m0\u001b[39;49m\u001b[43m,\u001b[49m\u001b[43m \u001b[49m\u001b[38;5;241;43m0\u001b[39;49m\u001b[43m,\u001b[49m\u001b[43m \u001b[49m\u001b[38;5;241;43m0\u001b[39;49m\u001b[43m]\u001b[49m\u001b[43m)\u001b[49m\u001b[43m)\u001b[49m\u001b[43m,\u001b[49m\n\u001b[1;32m     17\u001b[0m \u001b[43m    \u001b[49m\u001b[43m)\u001b[49m\n\u001b[1;32m     19\u001b[0m     \u001b[38;5;66;03m# Compute FSE angle using principal strains.\u001b[39;00m\n\u001b[1;32m     20\u001b[0m     fse_λ, fse_v \u001b[38;5;241m=\u001b[39m la\u001b[38;5;241m.\u001b[39meigh(\n\u001b[1;32m     21\u001b[0m         deformation_gradient \u001b[38;5;241m@\u001b[39m deformation_gradient\u001b[38;5;241m.\u001b[39mtranspose()\n\u001b[1;32m     22\u001b[0m     )\n",
      "File \u001b[0;32m~/vcs/pydrex-notebooks/.venv-pydrex-notebooks/lib/python3.11/site-packages/pydrex/minerals.py:405\u001b[0m, in \u001b[0;36mMineral.update_orientations\u001b[0;34m(self, config, deformation_gradient, velocity_gradient, pathline, **kwargs)\u001b[0m\n\u001b[1;32m    387\u001b[0m y_start \u001b[38;5;241m=\u001b[39m np\u001b[38;5;241m.\u001b[39mhstack(\n\u001b[1;32m    388\u001b[0m     (\n\u001b[1;32m    389\u001b[0m         deformation_gradient\u001b[38;5;241m.\u001b[39mflatten(),\n\u001b[0;32m   (...)\u001b[0m\n\u001b[1;32m    392\u001b[0m     )\n\u001b[1;32m    393\u001b[0m )\n\u001b[1;32m    394\u001b[0m solver \u001b[38;5;241m=\u001b[39m LSODA(\n\u001b[1;32m    395\u001b[0m     \u001b[38;5;28;01mlambda\u001b[39;00m t, y: eval_rhs(\n\u001b[1;32m    396\u001b[0m         t, y, _velocity_gradient, strain_rate, strain_rate_max\n\u001b[0;32m   (...)\u001b[0m\n\u001b[1;32m    403\u001b[0m     \u001b[38;5;241m*\u001b[39m\u001b[38;5;241m*\u001b[39mkwargs,\n\u001b[1;32m    404\u001b[0m )\n\u001b[0;32m--> 405\u001b[0m \u001b[43mperform_step\u001b[49m\u001b[43m(\u001b[49m\u001b[43msolver\u001b[49m\u001b[43m,\u001b[49m\u001b[43m \u001b[49m\u001b[43m_velocity_gradient\u001b[49m\u001b[43m,\u001b[49m\u001b[43m \u001b[49m\u001b[43m_position_start\u001b[49m\u001b[43m,\u001b[49m\u001b[43m \u001b[49m\u001b[43mtime_start\u001b[49m\u001b[43m)\u001b[49m\n\u001b[1;32m    407\u001b[0m \u001b[38;5;28;01mwhile\u001b[39;00m solver\u001b[38;5;241m.\u001b[39mstatus \u001b[38;5;241m==\u001b[39m \u001b[38;5;124m\"\u001b[39m\u001b[38;5;124mrunning\u001b[39m\u001b[38;5;124m\"\u001b[39m:\n\u001b[1;32m    408\u001b[0m     \u001b[38;5;28;01mif\u001b[39;00m \u001b[38;5;28mcallable\u001b[39m(velocity_gradient):\n",
      "File \u001b[0;32m~/vcs/pydrex-notebooks/.venv-pydrex-notebooks/lib/python3.11/site-packages/pydrex/minerals.py:349\u001b[0m, in \u001b[0;36mMineral.update_orientations.<locals>.perform_step\u001b[0;34m(solver, velocity_gradient, position, time)\u001b[0m\n\u001b[1;32m    344\u001b[0m strain_rate_max \u001b[38;5;241m=\u001b[39m np\u001b[38;5;241m.\u001b[39mabs(la\u001b[38;5;241m.\u001b[39meigvalsh(strain_rate))\u001b[38;5;241m.\u001b[39mmax()\n\u001b[1;32m    346\u001b[0m solver\u001b[38;5;241m.\u001b[39m_fun \u001b[38;5;241m=\u001b[39m \u001b[38;5;28;01mlambda\u001b[39;00m t, y: eval_rhs(\n\u001b[1;32m    347\u001b[0m     t, y, velocity_gradient, strain_rate, strain_rate_max\n\u001b[1;32m    348\u001b[0m )\n\u001b[0;32m--> 349\u001b[0m message \u001b[38;5;241m=\u001b[39m \u001b[43msolver\u001b[49m\u001b[38;5;241;43m.\u001b[39;49m\u001b[43mstep\u001b[49m\u001b[43m(\u001b[49m\u001b[43m)\u001b[49m\n\u001b[1;32m    350\u001b[0m \u001b[38;5;28;01mif\u001b[39;00m message \u001b[38;5;129;01mis\u001b[39;00m \u001b[38;5;129;01mnot\u001b[39;00m \u001b[38;5;28;01mNone\u001b[39;00m \u001b[38;5;129;01mand\u001b[39;00m solver\u001b[38;5;241m.\u001b[39mstatus \u001b[38;5;241m==\u001b[39m \u001b[38;5;124m\"\u001b[39m\u001b[38;5;124mfailed\u001b[39m\u001b[38;5;124m\"\u001b[39m:\n\u001b[1;32m    351\u001b[0m     \u001b[38;5;28;01mraise\u001b[39;00m _err\u001b[38;5;241m.\u001b[39mIterationError(message)\n",
      "File \u001b[0;32m~/vcs/pydrex-notebooks/.venv-pydrex-notebooks/lib/python3.11/site-packages/scipy/integrate/_ivp/base.py:181\u001b[0m, in \u001b[0;36mOdeSolver.step\u001b[0;34m(self)\u001b[0m\n\u001b[1;32m    179\u001b[0m \u001b[38;5;28;01melse\u001b[39;00m:\n\u001b[1;32m    180\u001b[0m     t \u001b[38;5;241m=\u001b[39m \u001b[38;5;28mself\u001b[39m\u001b[38;5;241m.\u001b[39mt\n\u001b[0;32m--> 181\u001b[0m     success, message \u001b[38;5;241m=\u001b[39m \u001b[38;5;28;43mself\u001b[39;49m\u001b[38;5;241;43m.\u001b[39;49m\u001b[43m_step_impl\u001b[49m\u001b[43m(\u001b[49m\u001b[43m)\u001b[49m\n\u001b[1;32m    183\u001b[0m     \u001b[38;5;28;01mif\u001b[39;00m \u001b[38;5;129;01mnot\u001b[39;00m success:\n\u001b[1;32m    184\u001b[0m         \u001b[38;5;28mself\u001b[39m\u001b[38;5;241m.\u001b[39mstatus \u001b[38;5;241m=\u001b[39m \u001b[38;5;124m'\u001b[39m\u001b[38;5;124mfailed\u001b[39m\u001b[38;5;124m'\u001b[39m\n",
      "File \u001b[0;32m~/vcs/pydrex-notebooks/.venv-pydrex-notebooks/lib/python3.11/site-packages/scipy/integrate/_ivp/lsoda.py:152\u001b[0m, in \u001b[0;36mLSODA._step_impl\u001b[0;34m(self)\u001b[0m\n\u001b[1;32m    150\u001b[0m itask \u001b[38;5;241m=\u001b[39m integrator\u001b[38;5;241m.\u001b[39mcall_args[\u001b[38;5;241m2\u001b[39m]\n\u001b[1;32m    151\u001b[0m integrator\u001b[38;5;241m.\u001b[39mcall_args[\u001b[38;5;241m2\u001b[39m] \u001b[38;5;241m=\u001b[39m \u001b[38;5;241m5\u001b[39m\n\u001b[0;32m--> 152\u001b[0m solver\u001b[38;5;241m.\u001b[39m_y, solver\u001b[38;5;241m.\u001b[39mt \u001b[38;5;241m=\u001b[39m \u001b[43mintegrator\u001b[49m\u001b[38;5;241;43m.\u001b[39;49m\u001b[43mrun\u001b[49m\u001b[43m(\u001b[49m\n\u001b[1;32m    153\u001b[0m \u001b[43m    \u001b[49m\u001b[43msolver\u001b[49m\u001b[38;5;241;43m.\u001b[39;49m\u001b[43mf\u001b[49m\u001b[43m,\u001b[49m\u001b[43m \u001b[49m\u001b[43msolver\u001b[49m\u001b[38;5;241;43m.\u001b[39;49m\u001b[43mjac\u001b[49m\u001b[43m \u001b[49m\u001b[38;5;129;43;01mor\u001b[39;49;00m\u001b[43m \u001b[49m\u001b[43m(\u001b[49m\u001b[38;5;28;43;01mlambda\u001b[39;49;00m\u001b[43m:\u001b[49m\u001b[43m \u001b[49m\u001b[38;5;28;43;01mNone\u001b[39;49;00m\u001b[43m)\u001b[49m\u001b[43m,\u001b[49m\u001b[43m \u001b[49m\u001b[43msolver\u001b[49m\u001b[38;5;241;43m.\u001b[39;49m\u001b[43m_y\u001b[49m\u001b[43m,\u001b[49m\u001b[43m \u001b[49m\u001b[43msolver\u001b[49m\u001b[38;5;241;43m.\u001b[39;49m\u001b[43mt\u001b[49m\u001b[43m,\u001b[49m\n\u001b[1;32m    154\u001b[0m \u001b[43m    \u001b[49m\u001b[38;5;28;43mself\u001b[39;49m\u001b[38;5;241;43m.\u001b[39;49m\u001b[43mt_bound\u001b[49m\u001b[43m,\u001b[49m\u001b[43m \u001b[49m\u001b[43msolver\u001b[49m\u001b[38;5;241;43m.\u001b[39;49m\u001b[43mf_params\u001b[49m\u001b[43m,\u001b[49m\u001b[43m \u001b[49m\u001b[43msolver\u001b[49m\u001b[38;5;241;43m.\u001b[39;49m\u001b[43mjac_params\u001b[49m\u001b[43m)\u001b[49m\n\u001b[1;32m    155\u001b[0m integrator\u001b[38;5;241m.\u001b[39mcall_args[\u001b[38;5;241m2\u001b[39m] \u001b[38;5;241m=\u001b[39m itask\n\u001b[1;32m    157\u001b[0m \u001b[38;5;28;01mif\u001b[39;00m solver\u001b[38;5;241m.\u001b[39msuccessful():\n",
      "File \u001b[0;32m~/vcs/pydrex-notebooks/.venv-pydrex-notebooks/lib/python3.11/site-packages/scipy/integrate/_ode.py:1344\u001b[0m, in \u001b[0;36mlsoda.run\u001b[0;34m(self, f, jac, y0, t0, t1, f_params, jac_params)\u001b[0m\n\u001b[1;32m   1341\u001b[0m     \u001b[38;5;28mself\u001b[39m\u001b[38;5;241m.\u001b[39macquire_new_handle()\n\u001b[1;32m   1342\u001b[0m args \u001b[38;5;241m=\u001b[39m [f, y0, t0, t1] \u001b[38;5;241m+\u001b[39m \u001b[38;5;28mself\u001b[39m\u001b[38;5;241m.\u001b[39mcall_args[:\u001b[38;5;241m-\u001b[39m\u001b[38;5;241m1\u001b[39m] \u001b[38;5;241m+\u001b[39m \\\n\u001b[1;32m   1343\u001b[0m        [jac, \u001b[38;5;28mself\u001b[39m\u001b[38;5;241m.\u001b[39mcall_args[\u001b[38;5;241m-\u001b[39m\u001b[38;5;241m1\u001b[39m], f_params, \u001b[38;5;241m0\u001b[39m, jac_params]\n\u001b[0;32m-> 1344\u001b[0m y1, t, istate \u001b[38;5;241m=\u001b[39m \u001b[38;5;28;43mself\u001b[39;49m\u001b[38;5;241;43m.\u001b[39;49m\u001b[43mrunner\u001b[49m\u001b[43m(\u001b[49m\u001b[38;5;241;43m*\u001b[39;49m\u001b[43margs\u001b[49m\u001b[43m)\u001b[49m\n\u001b[1;32m   1345\u001b[0m \u001b[38;5;28mself\u001b[39m\u001b[38;5;241m.\u001b[39mistate \u001b[38;5;241m=\u001b[39m istate\n\u001b[1;32m   1346\u001b[0m \u001b[38;5;28;01mif\u001b[39;00m istate \u001b[38;5;241m<\u001b[39m \u001b[38;5;241m0\u001b[39m:\n",
      "\u001b[0;31mValueError\u001b[0m: 0-th dimension must be fixed to 30009 but got 10009\n"
     ]
    }
   ],
   "source": [
    "# Compute CPO and FSE angles for M* = {0, 50, 200}.\n",
    "for ax, gbm_mobility in zip((ax0,ax50,ax200), gbm_mobilities):\n",
    "    params[\"gbm_mobility\"] = gbm_mobility\n",
    "\n",
    "    timestamps = np.linspace(0, 200, 500)\n",
    "    θ_fse = np.empty_like(timestamps)\n",
    "    θ_cpo = np.empty_like(timestamps)\n",
    "    mineral = create_mineral()\n",
    "    deformation_gradient = deformation_gradient_init.copy()\n",
    "\n",
    "    for t, time in enumerate(timestamps[:-1]):\n",
    "        deformation_gradient = mineral.update_orientations(\n",
    "            params,\n",
    "            deformation_gradient,\n",
    "            velocity_gradient,\n",
    "            pathline=(time, timestamps[t + 1], np.array([0, 0, 0])),\n",
    "        )\n",
    "\n",
    "        # Compute FSE angle using principal strains.\n",
    "        fse_λ, fse_v = la.eigh(\n",
    "            deformation_gradient @ deformation_gradient.transpose()\n",
    "        )\n",
    "        λ3, λ2, λ1 = np.sqrt(fse_λ)\n",
    "        fse_orientation = Rotation.from_matrix(fse_v[:, ::-1])\n",
    "        θ_fse[t] = _diagnostics.smallest_angle(\n",
    "            fse_orientation.apply([λ1, 0, 0]), [0, 1, 0]\n",
    "        )\n",
    "\n",
    "        # Compute CPO angle using Bingham average.\n",
    "        orientations_resampled, _ = _stats.resample_orientations(\n",
    "            mineral.orientations[-1], mineral.fractions[-1],\n",
    "        )\n",
    "        direction_mean = _diagnostics.bingham_average(\n",
    "            orientations_resampled,\n",
    "            axis=_minerals.OLIVINE_PRIMARY_AXIS[mineral.fabric],\n",
    "        )\n",
    "        θ_cpo[t] = _diagnostics.smallest_angle(\n",
    "            direction_mean, [0, 1, 0]\n",
    "        )\n",
    "\n",
    "    ax.plot(timestamps, θ_fse, \"--\", label=\"FSE\")\n",
    "    ax.plot(timestamps, θ_cpo, label=\"CPO\")\n",
    "    ax.legend(title=f\"$M^{{\\ast}}={gbm_mobility}$\")\n",
    "\n",
    "fig.show()"
   ]
  }
 ],
 "metadata": {
  "jupytext": {
   "formats": "ipynb,py"
  },
  "kernelspec": {
   "display_name": "Python 3 (ipykernel)",
   "language": "python",
   "name": "python3"
  },
  "language_info": {
   "codemirror_mode": {
    "name": "ipython",
    "version": 3
   },
   "file_extension": ".py",
   "mimetype": "text/x-python",
   "name": "python",
   "nbconvert_exporter": "python",
   "pygments_lexer": "ipython3",
   "version": "3.11.4"
  }
 },
 "nbformat": 4,
 "nbformat_minor": 5
}
