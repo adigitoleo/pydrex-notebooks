{
 "cells": [
  {
   "cell_type": "markdown",
   "id": "f4fceac4-4d47-47a9-b72a-41290b784331",
   "metadata": {},
   "source": [
    "# Pathline example\n",
    "\n",
    "Example to compute CPO given the velocity gradients along a steady-state pathline."
   ]
  },
  {
   "cell_type": "code",
   "execution_count": 1,
   "id": "23adfdb5-1475-4218-8940-332ee8c33686",
   "metadata": {},
   "outputs": [],
   "source": [
    "import numpy as np\n",
    "\n",
    "from pydrex import minerals as _minerals\n",
    "from pydrex import io as _io"
   ]
  },
  {
   "cell_type": "code",
   "execution_count": 2,
   "id": "1208848d-e9d9-405d-811a-7a15d93c5e2a",
   "metadata": {},
   "outputs": [
    {
     "name": "stderr",
     "output_type": "stream",
     "text": [
      "\u001b[31mERROR [12:53]\u001b[m pydrex: SCSV field of type 'integer' requires a fill value\n"
     ]
    },
    {
     "ename": "SCSVError",
     "evalue": "unable to parse SCSV schema from 'data/path_3116_7_002_298.txt'. Check logging output for details.",
     "output_type": "error",
     "traceback": [
      "\u001b[0;31m---------------------------------------------------------------------------\u001b[0m",
      "\u001b[0;31mSCSVError\u001b[0m                                 Traceback (most recent call last)",
      "Cell \u001b[0;32mIn[2], line 2\u001b[0m\n\u001b[1;32m      1\u001b[0m \u001b[38;5;66;03m# Read the data file and check the settings.\u001b[39;00m\n\u001b[0;32m----> 2\u001b[0m \u001b[43m_io\u001b[49m\u001b[38;5;241;43m.\u001b[39;49m\u001b[43mread_scsv\u001b[49m\u001b[43m(\u001b[49m\u001b[38;5;124;43m\"\u001b[39;49m\u001b[38;5;124;43mdata/path_3116_7_002_298.txt\u001b[39;49m\u001b[38;5;124;43m\"\u001b[39;49m\u001b[43m)\u001b[49m\n",
      "File \u001b[0;32m~/vcs/PyDRex/src/pydrex/io.py:52\u001b[0m, in \u001b[0;36mread_scsv\u001b[0;34m(file)\u001b[0m\n\u001b[1;32m     50\u001b[0m schema \u001b[38;5;241m=\u001b[39m metadata[\u001b[38;5;124m\"\u001b[39m\u001b[38;5;124mschema\u001b[39m\u001b[38;5;124m\"\u001b[39m]\n\u001b[1;32m     51\u001b[0m \u001b[38;5;28;01mif\u001b[39;00m \u001b[38;5;129;01mnot\u001b[39;00m _validate_scsv_schema(schema):\n\u001b[0;32m---> 52\u001b[0m     \u001b[38;5;28;01mraise\u001b[39;00m _err\u001b[38;5;241m.\u001b[39mSCSVError(\n\u001b[1;32m     53\u001b[0m         \u001b[38;5;124mf\u001b[39m\u001b[38;5;124m\"\u001b[39m\u001b[38;5;124munable to parse SCSV schema from \u001b[39m\u001b[38;5;124m'\u001b[39m\u001b[38;5;132;01m{\u001b[39;00mfile\u001b[38;5;132;01m}\u001b[39;00m\u001b[38;5;124m'\u001b[39m\u001b[38;5;124m.\u001b[39m\u001b[38;5;124m\"\u001b[39m\n\u001b[1;32m     54\u001b[0m         \u001b[38;5;241m+\u001b[39m \u001b[38;5;124m\"\u001b[39m\u001b[38;5;124m Check logging output for details.\u001b[39m\u001b[38;5;124m\"\u001b[39m\n\u001b[1;32m     55\u001b[0m     )\n\u001b[1;32m     56\u001b[0m reader \u001b[38;5;241m=\u001b[39m csv\u001b[38;5;241m.\u001b[39mreader(\n\u001b[1;32m     57\u001b[0m     content\u001b[38;5;241m.\u001b[39msplitlines(), delimiter\u001b[38;5;241m=\u001b[39mschema[\u001b[38;5;124m\"\u001b[39m\u001b[38;5;124mdelimiter\u001b[39m\u001b[38;5;124m\"\u001b[39m], skipinitialspace\u001b[38;5;241m=\u001b[39m\u001b[38;5;28;01mTrue\u001b[39;00m\n\u001b[1;32m     58\u001b[0m )\n\u001b[1;32m     60\u001b[0m schema_colnames \u001b[38;5;241m=\u001b[39m [d[\u001b[38;5;124m\"\u001b[39m\u001b[38;5;124mname\u001b[39m\u001b[38;5;124m\"\u001b[39m] \u001b[38;5;28;01mfor\u001b[39;00m d \u001b[38;5;129;01min\u001b[39;00m schema[\u001b[38;5;124m\"\u001b[39m\u001b[38;5;124mfields\u001b[39m\u001b[38;5;124m\"\u001b[39m]]\n",
      "\u001b[0;31mSCSVError\u001b[0m: unable to parse SCSV schema from 'data/path_3116_7_002_298.txt'. Check logging output for details."
     ]
    }
   ],
   "source": [
    "# Read the data file and check the settings.\n",
    "_io.read_scsv(\"data/path_3116_7_002_298.txt\")"
   ]
  }
 ],
 "metadata": {
  "kernelspec": {
   "display_name": "Python 3 (ipykernel)",
   "language": "python",
   "name": "python3"
  },
  "language_info": {
   "codemirror_mode": {
    "name": "ipython",
    "version": 3
   },
   "file_extension": ".py",
   "mimetype": "text/x-python",
   "name": "python",
   "nbconvert_exporter": "python",
   "pygments_lexer": "ipython3",
   "version": "3.11.3"
  }
 },
 "nbformat": 4,
 "nbformat_minor": 5
}
