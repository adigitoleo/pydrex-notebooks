{
 "cells": [
  {
   "cell_type": "markdown",
   "id": "8e25651c-4a19-4028-8369-4900d6395c72",
   "metadata": {},
   "source": [
    "# Convergence (number of grains, timestep)\n",
    "\n",
    "Relevant resources:\n",
    "- Figure 4 in [Fraters & Billen, 2021](https://doi.org/10.1029/2021GC009846)"
   ]
  },
  {
   "cell_type": "markdown",
   "id": "77ae4984-37a4-4cc1-952a-d2935736c4f1",
   "metadata": {},
   "source": [
    "## Steady flows\n",
    "\n",
    "In steady flows, the eventual state of the anisotropy is known. Analytical solutions for 2D simple shear are easy to derive. For 2D corner flow it's a bit more tricky but could be done. For 3D it's probably not worth the hassle.\n",
    "\n",
    "Initial exploration showed that 2000 grains is not really enough and 5000-10000 grains are needed for numerical convergence."
   ]
  }
 ],
 "metadata": {
  "kernelspec": {
   "display_name": "Python 3 (ipykernel)",
   "language": "python",
   "name": "python3"
  },
  "language_info": {
   "codemirror_mode": {
    "name": "ipython",
    "version": 3
   },
   "file_extension": ".py",
   "mimetype": "text/x-python",
   "name": "python",
   "nbconvert_exporter": "python",
   "pygments_lexer": "ipython3",
   "version": "3.11.3"
  }
 },
 "nbformat": 4,
 "nbformat_minor": 5
}
